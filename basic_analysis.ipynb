{
 "cells": [
  {
   "cell_type": "code",
   "execution_count": 1,
   "metadata": {},
   "outputs": [],
   "source": [
    "import core\n",
    "import synchronizer\n",
    "import plot\n"
   ]
  },
  {
   "cell_type": "code",
   "execution_count": 2,
   "metadata": {},
   "outputs": [
    {
     "name": "stdout",
     "output_type": "stream",
     "text": [
      "\n",
      "> loading data from Y:\\Pietro\\2Precordings\\PM_211222_SRO004250\\rec_000\\suite2p\\plane0 ... OK\n",
      "> Using the configuration file found in data_path.\n",
      "> parameters loaded.\n",
      "\n",
      "> Extracting cells ...\n"
     ]
    },
    {
     "name": "stderr",
     "output_type": "stream",
     "text": [
      "100%|██████████| 1523/1523 [00:45<00:00, 33.41it/s]"
     ]
    },
    {
     "name": "stdout",
     "output_type": "stream",
     "text": [
      "> 414 responsive cells found (tot: 1523, keep_unresponsive: True)\n"
     ]
    },
    {
     "name": "stderr",
     "output_type": "stream",
     "text": [
      "\n"
     ]
    }
   ],
   "source": [
    "path = \"Y:\\\\Pietro\\\\2Precordings\\\\PM_211222_SRO004250\\\\rec_000\\\\suite2p\\\\plane0\"\n",
    "\n",
    "# Create sync object\n",
    "sync = synchronizer.Sync(path+\"\\\\rec_000_000.mat\", path+\"\\\\stim_sequence.npy\", [\"800-0\",\"800-330\",\"800-128\",\"800-203\",\"800-525\"])\n",
    "rec = core.Rec2P(path, sync)\n",
    "cells = rec.get_cells(keep_unresponsive=True)\n"
   ]
  },
  {
   "cell_type": "code",
   "execution_count": null,
   "metadata": {},
   "outputs": [],
   "source": [
    "# refilter cells\n",
    "\n",
    "# rec.update_params()\n",
    "\n",
    "# for cell in cells:\n",
    "\n",
    "#     cells[cell].is_responsive(qi_threshold=0.3)\n",
    "\n",
    "pops = rec.get_populations(\"CONTRA\",n_clusters=None, stims=[\"800-0\"])\n",
    "\n",
    "len(rec.get_responsive())"
   ]
  },
  {
   "cell_type": "code",
   "execution_count": null,
   "metadata": {},
   "outputs": [],
   "source": [
    "import numpy as np\n",
    "from matplotlib import pyplot as plt\n",
    "from scipy.signal import butter, filtfilt\n",
    "\n",
    "# rec.update_params()\n",
    "\n",
    "# refilter cells\n",
    "# for cell in cells:\n",
    "\n",
    "#     cells[cell].is_responsive(qi_threshold=0.7)\n",
    "\n",
    "pops_mean_resp = []\n",
    "\n",
    "b, a = butter(4, 0.3)\n",
    "\n",
    "for pop in pops:\n",
    "\n",
    "    all_mean_resp = []\n",
    "\n",
    "    for cell in pop:\n",
    "\n",
    "        if cells[cell].responsive:\n",
    "\n",
    "            concat_stims = np.array([])\n",
    "\n",
    "            # concatenate the mean responses to all the stimuli\n",
    "\n",
    "            for stim in cells[cell].analyzed_trials:\n",
    "\n",
    "                for trial_type in cells[cell].analyzed_trials[stim]:\n",
    "\n",
    "                    r = cells[cell].analyzed_trials[stim][trial_type][\"average_dff\"]\n",
    "\n",
    "                    r = (r - r.min()) / (r.max()-r.min())\n",
    "                    # r = np.where(r>r.mean(),1,0)\n",
    "                    \n",
    "                    concat_stims = np.concatenate((concat_stims,r))\n",
    "        \n",
    "        all_mean_resp.append(concat_stims)\n",
    "\n",
    "    # convert to array\n",
    "    all_mean_resp = np.array(all_mean_resp)\n",
    "\n",
    "    plt.figure()\n",
    "    plot.plot_heatmap(all_mean_resp, 15.5)\n",
    "    plt.show()\n",
    "\n",
    "    pops_mean_resp.append(all_mean_resp)\n",
    "\n",
    "len(rec.get_responsive())"
   ]
  },
  {
   "cell_type": "code",
   "execution_count": 3,
   "metadata": {},
   "outputs": [
    {
     "data": {
      "text/plain": [
       "'Y:\\\\Pietro\\\\2Precordings\\\\PM_211222_SRO004250\\\\rec_000\\\\suite2p\\\\plane0\\\\plots\\\\average_responses_dff'"
      ]
     },
     "execution_count": 3,
     "metadata": {},
     "output_type": "execute_result"
    }
   ],
   "source": [
    "# refilter cells\n",
    "for cell in cells:\n",
    "\n",
    "    cells[cell].is_responsive(qi_threshold=0.6)\n",
    "\n",
    "\n",
    "print(len(rec.get_responsive()))\n",
    "    \n",
    "plot.plot_averaged_trials(rec,path+\"\\\\plots\")"
   ]
  },
  {
   "cell_type": "code",
   "execution_count": null,
   "metadata": {},
   "outputs": [],
   "source": []
  }
 ],
 "metadata": {
  "kernelspec": {
   "display_name": "base",
   "language": "python",
   "name": "python3"
  },
  "language_info": {
   "codemirror_mode": {
    "name": "ipython",
    "version": 3
   },
   "file_extension": ".py",
   "mimetype": "text/x-python",
   "name": "python",
   "nbconvert_exporter": "python",
   "pygments_lexer": "ipython3",
   "version": "3.9.13 (main, Aug 25 2022, 23:51:50) [MSC v.1916 64 bit (AMD64)]"
  },
  "orig_nbformat": 4,
  "vscode": {
   "interpreter": {
    "hash": "05433875f088bd09ac05dbd7e52f3fcfa5e9806576631043fcc8eedb322def6b"
   }
  }
 },
 "nbformat": 4,
 "nbformat_minor": 2
}
